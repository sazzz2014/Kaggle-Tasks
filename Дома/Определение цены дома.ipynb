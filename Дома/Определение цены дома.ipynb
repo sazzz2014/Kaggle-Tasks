{
 "cells": [
  {
   "cell_type": "code",
   "execution_count": 83,
   "metadata": {},
   "outputs": [],
   "source": [
    "# https://www.kaggle.com/c/california-house-price/overview\n",
    "import pandas as pd\n",
    "import numpy as np\n",
    "from matplotlib import pyplot as plt\n",
    "import seaborn as sns\n",
    "%matplotlib inline"
   ]
  },
  {
   "cell_type": "code",
   "execution_count": 75,
   "metadata": {},
   "outputs": [
    {
     "data": {
      "text/plain": [
       "((6192, 9), (14448, 10))"
      ]
     },
     "execution_count": 75,
     "metadata": {},
     "output_type": "execute_result"
    }
   ],
   "source": [
    "housing_test = pd.read_csv('housing_test.csv', index_col='Id')\n",
    "housing_train = pd.read_csv('housing_train.csv')\n",
    "housing_test.shape, housing_train.shape"
   ]
  },
  {
   "cell_type": "code",
   "execution_count": 76,
   "metadata": {},
   "outputs": [
    {
     "data": {
      "text/html": [
       "<div>\n",
       "<style scoped>\n",
       "    .dataframe tbody tr th:only-of-type {\n",
       "        vertical-align: middle;\n",
       "    }\n",
       "\n",
       "    .dataframe tbody tr th {\n",
       "        vertical-align: top;\n",
       "    }\n",
       "\n",
       "    .dataframe thead th {\n",
       "        text-align: right;\n",
       "    }\n",
       "</style>\n",
       "<table border=\"1\" class=\"dataframe\">\n",
       "  <thead>\n",
       "    <tr style=\"text-align: right;\">\n",
       "      <th></th>\n",
       "      <th>longitude</th>\n",
       "      <th>latitude</th>\n",
       "      <th>housing_median_age</th>\n",
       "      <th>total_rooms</th>\n",
       "      <th>total_bedrooms</th>\n",
       "      <th>population</th>\n",
       "      <th>households</th>\n",
       "      <th>median_income</th>\n",
       "      <th>ocean_proximity</th>\n",
       "    </tr>\n",
       "    <tr>\n",
       "      <th>Id</th>\n",
       "      <th></th>\n",
       "      <th></th>\n",
       "      <th></th>\n",
       "      <th></th>\n",
       "      <th></th>\n",
       "      <th></th>\n",
       "      <th></th>\n",
       "      <th></th>\n",
       "      <th></th>\n",
       "    </tr>\n",
       "  </thead>\n",
       "  <tbody>\n",
       "    <tr>\n",
       "      <th>0</th>\n",
       "      <td>-122.64</td>\n",
       "      <td>38.24</td>\n",
       "      <td>40.0</td>\n",
       "      <td>1974.0</td>\n",
       "      <td>410.0</td>\n",
       "      <td>1039.0</td>\n",
       "      <td>398.0</td>\n",
       "      <td>3.7917</td>\n",
       "      <td>&lt;1H OCEAN</td>\n",
       "    </tr>\n",
       "    <tr>\n",
       "      <th>1</th>\n",
       "      <td>-119.05</td>\n",
       "      <td>36.09</td>\n",
       "      <td>9.0</td>\n",
       "      <td>3297.0</td>\n",
       "      <td>568.0</td>\n",
       "      <td>1749.0</td>\n",
       "      <td>568.0</td>\n",
       "      <td>4.0217</td>\n",
       "      <td>INLAND</td>\n",
       "    </tr>\n",
       "    <tr>\n",
       "      <th>2</th>\n",
       "      <td>-116.98</td>\n",
       "      <td>32.85</td>\n",
       "      <td>12.0</td>\n",
       "      <td>3570.0</td>\n",
       "      <td>713.0</td>\n",
       "      <td>3321.0</td>\n",
       "      <td>666.0</td>\n",
       "      <td>4.0882</td>\n",
       "      <td>&lt;1H OCEAN</td>\n",
       "    </tr>\n",
       "    <tr>\n",
       "      <th>3</th>\n",
       "      <td>-118.42</td>\n",
       "      <td>34.20</td>\n",
       "      <td>27.0</td>\n",
       "      <td>3201.0</td>\n",
       "      <td>970.0</td>\n",
       "      <td>3403.0</td>\n",
       "      <td>948.0</td>\n",
       "      <td>2.2377</td>\n",
       "      <td>&lt;1H OCEAN</td>\n",
       "    </tr>\n",
       "    <tr>\n",
       "      <th>4</th>\n",
       "      <td>-118.47</td>\n",
       "      <td>34.01</td>\n",
       "      <td>41.0</td>\n",
       "      <td>2704.0</td>\n",
       "      <td>557.0</td>\n",
       "      <td>1047.0</td>\n",
       "      <td>478.0</td>\n",
       "      <td>4.4211</td>\n",
       "      <td>&lt;1H OCEAN</td>\n",
       "    </tr>\n",
       "  </tbody>\n",
       "</table>\n",
       "</div>"
      ],
      "text/plain": [
       "    longitude  latitude  housing_median_age  total_rooms  total_bedrooms  \\\n",
       "Id                                                                         \n",
       "0     -122.64     38.24                40.0       1974.0           410.0   \n",
       "1     -119.05     36.09                 9.0       3297.0           568.0   \n",
       "2     -116.98     32.85                12.0       3570.0           713.0   \n",
       "3     -118.42     34.20                27.0       3201.0           970.0   \n",
       "4     -118.47     34.01                41.0       2704.0           557.0   \n",
       "\n",
       "    population  households  median_income ocean_proximity  \n",
       "Id                                                         \n",
       "0       1039.0       398.0         3.7917       <1H OCEAN  \n",
       "1       1749.0       568.0         4.0217          INLAND  \n",
       "2       3321.0       666.0         4.0882       <1H OCEAN  \n",
       "3       3403.0       948.0         2.2377       <1H OCEAN  \n",
       "4       1047.0       478.0         4.4211       <1H OCEAN  "
      ]
     },
     "execution_count": 76,
     "metadata": {},
     "output_type": "execute_result"
    }
   ],
   "source": [
    "housing_test.head()"
   ]
  },
  {
   "cell_type": "code",
   "execution_count": 78,
   "metadata": {},
   "outputs": [
    {
     "data": {
      "text/html": [
       "<div>\n",
       "<style scoped>\n",
       "    .dataframe tbody tr th:only-of-type {\n",
       "        vertical-align: middle;\n",
       "    }\n",
       "\n",
       "    .dataframe tbody tr th {\n",
       "        vertical-align: top;\n",
       "    }\n",
       "\n",
       "    .dataframe thead th {\n",
       "        text-align: right;\n",
       "    }\n",
       "</style>\n",
       "<table border=\"1\" class=\"dataframe\">\n",
       "  <thead>\n",
       "    <tr style=\"text-align: right;\">\n",
       "      <th></th>\n",
       "      <th>longitude</th>\n",
       "      <th>latitude</th>\n",
       "      <th>housing_median_age</th>\n",
       "      <th>total_rooms</th>\n",
       "      <th>total_bedrooms</th>\n",
       "      <th>population</th>\n",
       "      <th>households</th>\n",
       "      <th>median_income</th>\n",
       "      <th>median_house_value</th>\n",
       "      <th>ocean_proximity</th>\n",
       "    </tr>\n",
       "  </thead>\n",
       "  <tbody>\n",
       "    <tr>\n",
       "      <th>0</th>\n",
       "      <td>-116.46</td>\n",
       "      <td>33.82</td>\n",
       "      <td>6.0</td>\n",
       "      <td>4863.0</td>\n",
       "      <td>920.0</td>\n",
       "      <td>3010.0</td>\n",
       "      <td>828.0</td>\n",
       "      <td>3.9508</td>\n",
       "      <td>104200.0</td>\n",
       "      <td>INLAND</td>\n",
       "    </tr>\n",
       "    <tr>\n",
       "      <th>1</th>\n",
       "      <td>-117.04</td>\n",
       "      <td>34.00</td>\n",
       "      <td>21.0</td>\n",
       "      <td>4624.0</td>\n",
       "      <td>852.0</td>\n",
       "      <td>2174.0</td>\n",
       "      <td>812.0</td>\n",
       "      <td>3.5255</td>\n",
       "      <td>132100.0</td>\n",
       "      <td>INLAND</td>\n",
       "    </tr>\n",
       "    <tr>\n",
       "      <th>2</th>\n",
       "      <td>-121.03</td>\n",
       "      <td>37.55</td>\n",
       "      <td>32.0</td>\n",
       "      <td>946.0</td>\n",
       "      <td>198.0</td>\n",
       "      <td>624.0</td>\n",
       "      <td>173.0</td>\n",
       "      <td>1.9728</td>\n",
       "      <td>97900.0</td>\n",
       "      <td>INLAND</td>\n",
       "    </tr>\n",
       "    <tr>\n",
       "      <th>3</th>\n",
       "      <td>-117.80</td>\n",
       "      <td>33.68</td>\n",
       "      <td>8.0</td>\n",
       "      <td>2032.0</td>\n",
       "      <td>349.0</td>\n",
       "      <td>862.0</td>\n",
       "      <td>340.0</td>\n",
       "      <td>6.9133</td>\n",
       "      <td>274100.0</td>\n",
       "      <td>&lt;1H OCEAN</td>\n",
       "    </tr>\n",
       "    <tr>\n",
       "      <th>4</th>\n",
       "      <td>-122.26</td>\n",
       "      <td>37.83</td>\n",
       "      <td>52.0</td>\n",
       "      <td>1656.0</td>\n",
       "      <td>420.0</td>\n",
       "      <td>718.0</td>\n",
       "      <td>382.0</td>\n",
       "      <td>2.6768</td>\n",
       "      <td>182300.0</td>\n",
       "      <td>NEAR BAY</td>\n",
       "    </tr>\n",
       "  </tbody>\n",
       "</table>\n",
       "</div>"
      ],
      "text/plain": [
       "   longitude  latitude  housing_median_age  total_rooms  total_bedrooms  \\\n",
       "0    -116.46     33.82                 6.0       4863.0           920.0   \n",
       "1    -117.04     34.00                21.0       4624.0           852.0   \n",
       "2    -121.03     37.55                32.0        946.0           198.0   \n",
       "3    -117.80     33.68                 8.0       2032.0           349.0   \n",
       "4    -122.26     37.83                52.0       1656.0           420.0   \n",
       "\n",
       "   population  households  median_income  median_house_value ocean_proximity  \n",
       "0      3010.0       828.0         3.9508            104200.0          INLAND  \n",
       "1      2174.0       812.0         3.5255            132100.0          INLAND  \n",
       "2       624.0       173.0         1.9728             97900.0          INLAND  \n",
       "3       862.0       340.0         6.9133            274100.0       <1H OCEAN  \n",
       "4       718.0       382.0         2.6768            182300.0        NEAR BAY  "
      ]
     },
     "execution_count": 78,
     "metadata": {},
     "output_type": "execute_result"
    }
   ],
   "source": [
    "housing_train.head()"
   ]
  },
  {
   "cell_type": "code",
   "execution_count": 79,
   "metadata": {},
   "outputs": [
    {
     "name": "stdout",
     "output_type": "stream",
     "text": [
      "<class 'pandas.core.frame.DataFrame'>\n",
      "RangeIndex: 14448 entries, 0 to 14447\n",
      "Data columns (total 10 columns):\n",
      " #   Column              Non-Null Count  Dtype  \n",
      "---  ------              --------------  -----  \n",
      " 0   longitude           14448 non-null  float64\n",
      " 1   latitude            14448 non-null  float64\n",
      " 2   housing_median_age  14448 non-null  float64\n",
      " 3   total_rooms         14448 non-null  float64\n",
      " 4   total_bedrooms      14310 non-null  float64\n",
      " 5   population          14448 non-null  float64\n",
      " 6   households          14448 non-null  float64\n",
      " 7   median_income       14448 non-null  float64\n",
      " 8   median_house_value  14448 non-null  float64\n",
      " 9   ocean_proximity     14448 non-null  object \n",
      "dtypes: float64(9), object(1)\n",
      "memory usage: 1.1+ MB\n"
     ]
    }
   ],
   "source": [
    "housing_train.info()"
   ]
  },
  {
   "cell_type": "code",
   "execution_count": 80,
   "metadata": {},
   "outputs": [
    {
     "name": "stdout",
     "output_type": "stream",
     "text": [
      "<class 'pandas.core.frame.DataFrame'>\n",
      "Int64Index: 6192 entries, 0 to 6191\n",
      "Data columns (total 9 columns):\n",
      " #   Column              Non-Null Count  Dtype  \n",
      "---  ------              --------------  -----  \n",
      " 0   longitude           6192 non-null   float64\n",
      " 1   latitude            6192 non-null   float64\n",
      " 2   housing_median_age  6192 non-null   float64\n",
      " 3   total_rooms         6192 non-null   float64\n",
      " 4   total_bedrooms      6123 non-null   float64\n",
      " 5   population          6192 non-null   float64\n",
      " 6   households          6192 non-null   float64\n",
      " 7   median_income       6192 non-null   float64\n",
      " 8   ocean_proximity     6192 non-null   object \n",
      "dtypes: float64(8), object(1)\n",
      "memory usage: 483.8+ KB\n"
     ]
    }
   ],
   "source": [
    "housing_test.info()"
   ]
  },
  {
   "cell_type": "markdown",
   "metadata": {},
   "source": [
    "### Кодируем категориальную переменную, заменяем неопределенные значения на медиану"
   ]
  },
  {
   "cell_type": "code",
   "execution_count": 41,
   "metadata": {},
   "outputs": [
    {
     "name": "stdout",
     "output_type": "stream",
     "text": [
      "<class 'pandas.core.frame.DataFrame'>\n",
      "Int64Index: 6192 entries, 0 to 6191\n",
      "Data columns (total 12 columns):\n",
      " #   Column                      Non-Null Count  Dtype  \n",
      "---  ------                      --------------  -----  \n",
      " 0   longitude                   6192 non-null   float64\n",
      " 1   latitude                    6192 non-null   float64\n",
      " 2   housing_median_age          6192 non-null   float64\n",
      " 3   total_rooms                 6192 non-null   float64\n",
      " 4   total_bedrooms              6192 non-null   float64\n",
      " 5   population                  6192 non-null   float64\n",
      " 6   households                  6192 non-null   float64\n",
      " 7   median_income               6192 non-null   float64\n",
      " 8   ocean_proximity_INLAND      6192 non-null   uint8  \n",
      " 9   ocean_proximity_ISLAND      6192 non-null   uint8  \n",
      " 10  ocean_proximity_NEAR BAY    6192 non-null   uint8  \n",
      " 11  ocean_proximity_NEAR OCEAN  6192 non-null   uint8  \n",
      "dtypes: float64(8), uint8(4)\n",
      "memory usage: 459.6 KB\n"
     ]
    }
   ],
   "source": [
    "#кодируем\n",
    "housing_train_encoder = pd.get_dummies(housing_train, drop_first = True)\n",
    "housing_test_encoder = pd.get_dummies(housing_test, drop_first = True)\n",
    "housing_test_encoder['total_bedrooms'].fillna(housing_test_encoder['total_bedrooms'].median(), inplace=True)\n",
    "housing_train_encoder['total_bedrooms'].fillna(housing_train_encoder['total_bedrooms'].median(), inplace=True)\n",
    "housing_test_encoder.info()"
   ]
  },
  {
   "cell_type": "code",
   "execution_count": 81,
   "metadata": {},
   "outputs": [],
   "source": [
    "X = housing_train_encoder.drop(['median_house_value'], axis = 1)\n",
    "y = housing_train_encoder['median_house_value']"
   ]
  },
  {
   "cell_type": "markdown",
   "metadata": {},
   "source": [
    "Делаем предсказание с помощью линейной регрессии"
   ]
  },
  {
   "cell_type": "code",
   "execution_count": 82,
   "metadata": {},
   "outputs": [
    {
     "data": {
      "text/plain": [
       "array([246576.40378021, 133832.31595407, 160637.27256709, ...,\n",
       "       268228.09550495, 273792.05718079, 251313.39913305])"
      ]
     },
     "execution_count": 82,
     "metadata": {},
     "output_type": "execute_result"
    }
   ],
   "source": [
    "from sklearn.linear_model import LinearRegression\n",
    "from sklearn.preprocessing import StandardScaler\n",
    "scaler = StandardScaler()\n",
    "reg = LinearRegression()\n",
    "\n",
    "X_scaled = scaler.fit_transform(X)\n",
    "reg.fit(X_scaled, y)\n",
    "\n",
    "housing_test_scaled = scaler.fit_transform(housing_test_encoder)\n",
    "prediction = reg.predict(housing_test_scaled)\n",
    "prediction"
   ]
  },
  {
   "cell_type": "markdown",
   "metadata": {},
   "source": [
    "Записываем прогноз в файл"
   ]
  },
  {
   "cell_type": "code",
   "execution_count": 44,
   "metadata": {},
   "outputs": [],
   "source": [
    "result = pd.DataFrame({'Id': housing_test.reset_index()['Id'], \"median_house_value\": prediction})\n",
    "result.to_csv('prediction/LinearRegression.csv', index=False)"
   ]
  },
  {
   "cell_type": "code",
   "execution_count": 60,
   "metadata": {},
   "outputs": [
    {
     "name": "stdout",
     "output_type": "stream",
     "text": [
      "14999.0 - min\n",
      "500001.0 - max\n",
      "180300.0 - median\n"
     ]
    }
   ],
   "source": [
    "print(\"{0} - min\".format(housing_train['median_house_value'].min()))\n",
    "print(\"{0} - max\".format(housing_train['median_house_value'].max()))\n",
    "print(\"{0} - median\".format(housing_train['median_house_value'].median()))"
   ]
  },
  {
   "cell_type": "markdown",
   "metadata": {},
   "source": [
    "#### Score на Kaggle - 69902.21138(результат вписывается в разброс)\n"
   ]
  },
  {
   "cell_type": "code",
   "execution_count": null,
   "metadata": {},
   "outputs": [],
   "source": []
  }
 ],
 "metadata": {
  "kernelspec": {
   "display_name": "Python 3",
   "language": "python",
   "name": "python3"
  },
  "language_info": {
   "codemirror_mode": {
    "name": "ipython",
    "version": 3
   },
   "file_extension": ".py",
   "mimetype": "text/x-python",
   "name": "python",
   "nbconvert_exporter": "python",
   "pygments_lexer": "ipython3",
   "version": "3.8.3"
  }
 },
 "nbformat": 4,
 "nbformat_minor": 4
}
